def f(x: float):
    return np.piecewise(x, [0 <= x <= 1, 1 < x <= 2], [lambda x: 1, lambda x: 4 * x])
def a(n: int):
    if n > 0:
        return 4 / (np.pi * n) ** 2 * (1 - (-1) ** n)
    elif n == 0:
        return 7


def b(n: int):
    if n > 0:
        return (3 * (-1) ** n - 7) / (np.pi * n)

    
def S(x: float, N: int):
    if 0 < x < 1 or 1 < x < 2:
        s = a(0) / 2
        for n in range(1, N + 1):
            s += a(n) * np.cos(np.pi * n * x) + b(n) * np.sin(np.pi * n * x)
    elif x == 1:
        s = 1 / 2 * (f(0.99) + f(1.01))
    elif x == 0 or x == 2:
        s = 1 / 2 * (f(0) + f(2))
    
    return s
x = np.arange(0, 2.01, 0.01)
f2 = np.vectorize(f)
S2 = np.vectorize(S)

fig = plt.figure(figsize=(15, 8))

plt.plot(x, list(map(f, x)), linewidth=3, label='f(x)')
plt.plot(x, S2(x, 1), linewidth=3, label='S(x, 1)')
plt.plot(x, S2(x, 2), linewidth=3, label='S(x, 2)')
plt.plot(x, S2(x, 5), linewidth=3, label='S(x, 5)')
plt.plot(x, S2(x, 10), linewidth=3, label='S(x, 10)')

plt.legend()
plt.show()
